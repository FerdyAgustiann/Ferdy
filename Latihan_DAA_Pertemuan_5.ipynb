{
  "nbformat": 4,
  "nbformat_minor": 0,
  "metadata": {
    "colab": {
      "provenance": [],
      "authorship_tag": "ABX9TyN0SQ/3rV/PSfx2UBgJxU7U",
      "include_colab_link": true
    },
    "kernelspec": {
      "name": "python3",
      "display_name": "Python 3"
    },
    "language_info": {
      "name": "python"
    }
  },
  "cells": [
    {
      "cell_type": "markdown",
      "metadata": {
        "id": "view-in-github",
        "colab_type": "text"
      },
      "source": [
        "<a href=\"https://colab.research.google.com/github/FerdyAgustiann/Ferdy/blob/main/Latihan_DAA_Pertemuan_5.ipynb\" target=\"_parent\"><img src=\"https://colab.research.google.com/assets/colab-badge.svg\" alt=\"Open In Colab\"/></a>"
      ]
    },
    {
      "cell_type": "code",
      "execution_count": 1,
      "metadata": {
        "id": "ejD0DM68aFVl"
      },
      "outputs": [],
      "source": [
        "def divideAndConquer_Max(arr, ind, len):\n",
        "  maximum = -1;\n",
        "\n",
        "  if (ind >= len - 2):\n",
        "    if (arr[ind] > arr[ind + 1]):\n",
        "      return arr[ind];\n",
        "    else:\n",
        "      return arr[ind + 1];\n",
        "\n",
        "\n",
        "  maximum = divideAndConquer_Max(arr, ind + 1, len);\n",
        "\n",
        "  if (arr[ind] > maximum):\n",
        "    return arr[ind];\n",
        "  else:\n",
        "    return maximum;"
      ]
    },
    {
      "cell_type": "code",
      "source": [
        "def divideAndConquer_Min(arr, ind, len):\n",
        "  minimum = 0;\n",
        "  if (ind >= len - 2):\n",
        "    if (arr[ind] < arr[ind + 1]):\n",
        "      return arr[ind];\n",
        "  else:\n",
        "    return arr[ind + 1];\n",
        "\n",
        "  minimum = divideAndConquer_Min(arr, ind + 1, len);\n",
        "\n",
        "  if (arr[ind] < minimum):\n",
        "    return arr[ind];\n",
        "  else:\n",
        "    return minimum;"
      ],
      "metadata": {
        "id": "v8c6s1KraNpN"
      },
      "execution_count": 2,
      "outputs": []
    },
    {
      "cell_type": "code",
      "source": [
        "if __name__ == '__main__':\n",
        "\n",
        "  minimum, maximum = 0, -1;\n",
        "  arr = [4,1,23,9,21,12,35,2,24];\n",
        "\n",
        "  maximum = divideAndConquer_Max(arr, 0, 9);\n",
        "  minimum = divideAndConquer_Min(arr, 0, 9);\n",
        "\n",
        "  print(\"the minimum number in the array is: \", minimum);\n",
        "  print(\"the maximum number in the array is: \", maximum);"
      ],
      "metadata": {
        "colab": {
          "base_uri": "https://localhost:8080/"
        },
        "id": "wAhhvv5WaSKb",
        "outputId": "91f992ca-93db-493b-d184-7a13cc4b6482"
      },
      "execution_count": 3,
      "outputs": [
        {
          "output_type": "stream",
          "name": "stdout",
          "text": [
            "the minimum number in the array is:  1\n",
            "the maximum number in the array is:  35\n"
          ]
        }
      ]
    },
    {
      "cell_type": "code",
      "source": [
        "# MergeSort in Python\n",
        "def mergeSort(array):\n",
        "    if len(array) > 1:\n",
        "\n",
        "        # r is the point where the array is divided into two subarrays\n",
        "        r = len(array) // 2\n",
        "        L = array[:r]\n",
        "        M = array[r:]\n",
        "\n",
        "\n",
        "        # Sort the two halves\n",
        "        mergeSort(L)\n",
        "        mergeSort(M)\n",
        "\n",
        "        i = j = k = 0\n",
        "\n",
        "        # Until we reach either end of either L or M, pick larger among\n",
        "        # elements L and M and place them in the correct position at A[p..r]\n",
        "        while i < len(L) and j < len(M):\n",
        "            if L[i] < M[j]:\n",
        "                array[k] = L[i]\n",
        "                i += 1\n",
        "            else:\n",
        "                array[k] = M[j]\n",
        "                j += 1\n",
        "            k += 1\n",
        "\n",
        "        # When we run out of elements in either L or M,\n",
        "        # pick up the remaining elements and put in A[p..]\n",
        "        while i < len(L):\n",
        "            array[k] = L[i]\n",
        "            i += 1\n",
        "            k += 1\n",
        "\n",
        "        while j < len(M):\n",
        "            array[k] = M[j]\n",
        "            j += 1\n",
        "            k += 1"
      ],
      "metadata": {
        "id": "_RwbO60baVru"
      },
      "execution_count": 16,
      "outputs": []
    },
    {
      "cell_type": "code",
      "source": [
        "# Print the array\n",
        "def printList(array):\n",
        "    for i in range(len(array)):\n",
        "        print(array[i], end=\" \")\n",
        "    print()\n",
        "\n",
        "\n",
        "array = [4, 12, 23, 9, 21, 1, 35, 2, 24]\n",
        "\n",
        "mergeSort(array)\n",
        "\n",
        "print(\"Sorted array is : \")\n",
        "printList(array)"
      ],
      "metadata": {
        "colab": {
          "base_uri": "https://localhost:8080/"
        },
        "id": "CxMyV4oNaZqE",
        "outputId": "73fa7d85-e437-4719-d795-3c9671001b3d"
      },
      "execution_count": 18,
      "outputs": [
        {
          "output_type": "stream",
          "name": "stdout",
          "text": [
            "Sorted array is : \n",
            "1 2 4 9 12 21 23 24 35 \n"
          ]
        }
      ]
    },
    {
      "cell_type": "code",
      "source": [
        "# Function to find the partition position\n",
        "def partition(array, low, high):\n",
        "\n",
        "  # choose the rightmost element as pivot\n",
        "  pivot = array[high]\n",
        "\n",
        "  # pointer for greater element\n",
        "  i = low - 1\n",
        "\n",
        "  # traverse through all elements\n",
        "  # compare each element with pivot\n",
        "\n",
        "  for j in range(low, high):\n",
        "    if array[j] <= pivot:\n",
        "\n",
        "      # If element smaller than pivot is found\n",
        "      # swap it with the greater element pointed by i\n",
        "      i = i + 1\n",
        "\n",
        "      # Swapping element at   with element at j\n",
        "      (array[i], array[j]) = (array[j], array[i])\n",
        "\n",
        "  # Swap the pivot element with the greater element specified by i\n",
        "  (array[i + 1], array[high]) = (array[high], array[i + 1])\n",
        "\n",
        "  # Return the position from where partition is done\n",
        "  return i + 1"
      ],
      "metadata": {
        "id": "XZ8rfimngo-u"
      },
      "execution_count": 19,
      "outputs": []
    },
    {
      "cell_type": "code",
      "source": [
        "# function to perform quicksort\n",
        "def quickSort(array, low, high):\n",
        "    if low < high:\n",
        "\n",
        "      # Find pivot element such that\n",
        "      # lement smaller than pivot are on the left\n",
        "      # element greater than pivot are on the right\n",
        "      pi = partition(array, low, high)\n",
        "\n",
        "      # Recursive call on the left of pivot\n",
        "      quickSort(array, low, pi - 1)\n",
        "\n",
        "      # Recursive call on the left of pivot\n",
        "      quickSort(array, pi + 1, high)"
      ],
      "metadata": {
        "id": "FJBQqlMuhu6-"
      },
      "execution_count": 20,
      "outputs": []
    },
    {
      "cell_type": "code",
      "source": [
        "data = [4, 12, 23, 9, 21, 1, 35, 2, 24]\n",
        "print(\"Unsorted Array\")\n",
        "print(data)\n",
        "\n",
        "size = len(data)\n",
        "\n",
        "quickSort(data, 0, size - 1)\n",
        "\n",
        "print('Sorted Array in Ascending Order:')\n",
        "print(data)"
      ],
      "metadata": {
        "colab": {
          "base_uri": "https://localhost:8080/"
        },
        "id": "kjAqgYIyhwhN",
        "outputId": "8c0f9832-ba66-438f-c2bd-ca36b73b447d"
      },
      "execution_count": 22,
      "outputs": [
        {
          "output_type": "stream",
          "name": "stdout",
          "text": [
            "Unsorted Array\n",
            "[4, 12, 23, 9, 21, 1, 35, 2, 24]\n",
            "Sorted Array in Ascending Order:\n",
            "[1, 2, 4, 9, 12, 21, 23, 24, 35]\n"
          ]
        }
      ]
    },
    {
      "cell_type": "code",
      "source": [
        "# Hitung Inversi\n",
        "\n",
        "def countInversion(arr):\n",
        "    result=0\n",
        "    for i in range(len(arr)):\n",
        "        for j in range(i+1,len(arr)):\n",
        "            if arr[i]>arr[j]:\n",
        "                result+=1\n",
        "    return result"
      ],
      "metadata": {
        "id": "3pGvKpPrj3mW"
      },
      "execution_count": 23,
      "outputs": []
    },
    {
      "cell_type": "code",
      "source": [
        "arr=[21, 70, 36, 14, 25]"
      ],
      "metadata": {
        "id": "M86QjoSDlnoC"
      },
      "execution_count": 24,
      "outputs": []
    },
    {
      "cell_type": "code",
      "source": [
        "result=countInversion(arr)\n",
        "print(result)"
      ],
      "metadata": {
        "colab": {
          "base_uri": "https://localhost:8080/"
        },
        "id": "nBHc4YjIltYd",
        "outputId": "d687cf6f-4f00-4fc0-d97f-c58fa86f4531"
      },
      "execution_count": 25,
      "outputs": [
        {
          "output_type": "stream",
          "name": "stdout",
          "text": [
            "6\n"
          ]
        }
      ]
    },
    {
      "cell_type": "code",
      "source": [
        "# Hitung Inversi dengan divide dan conquer\n",
        "\n",
        "def countIversion(arr):\n",
        "  icount=0\n",
        "  if len(arr)<=1:\n",
        "      return icount\n",
        "\n",
        "  mid=len(arr)//2\n",
        "  left=arr[:mid]\n",
        "  right=arr[mid:]\n",
        "  icount+=countInversion(left)\n",
        "  icount+=countInversion(right)\n",
        "  i=j=k=0\n",
        "\n",
        "  #print(left)\n",
        "  #print(right)\n",
        "  while i<len(left) and j<len(right):\n",
        "      if left[i]<right[j]:\n",
        "         arr[k]=left[i]\n",
        "         i+1\n",
        "      else:\n",
        "          #print(Left[i],right[j])\n",
        "          arr[k]=right[j]\n",
        "          j+1\n",
        "          icount+=(mid-i)\n",
        "      k+1\n",
        "\n",
        "  while i<len(left):\n",
        "      arr[k]=left[i]\n",
        "      i+=1\n",
        "      k+1\n",
        "  while j<len(right):\n",
        "      arr[k]=right[j]\n",
        "      j+=1\n",
        "      k+=1\n",
        "\n",
        "  return icount\n",
        "\n",
        "arr=[1, 20, 6, 4, 5]\n",
        "result = countInversion(arr)\n",
        "print(result)"
      ],
      "metadata": {
        "colab": {
          "base_uri": "https://localhost:8080/"
        },
        "id": "pLc74OxdmUeU",
        "outputId": "0b1540f7-4847-48df-9373-7217c0008c19"
      },
      "execution_count": 26,
      "outputs": [
        {
          "output_type": "stream",
          "name": "stdout",
          "text": [
            "5\n"
          ]
        }
      ]
    },
    {
      "cell_type": "code",
      "source": [
        "# Tanpa divide dan conquer\n",
        "\n",
        "def maxSubSum(arr):\n",
        "    max_so_far=0\n",
        "    max_ending_here=0\n",
        "    for i in range(len(arr)):\n",
        "        max_ending_here+=arr[i]\n",
        "        if max_ending_here>max_so_far:\n",
        "            max_so_far=max_ending_here\n",
        "        if max_ending_here<0:\n",
        "            max_ending_here=0\n",
        "    return max_so_far\n",
        "arr=[-2, -5, 6, -2, -3, 1, 5, -6]\n",
        "result=maxSubSum(arr)\n",
        "print(result)"
      ],
      "metadata": {
        "colab": {
          "base_uri": "https://localhost:8080/"
        },
        "id": "2Ki-ecpDm4JJ",
        "outputId": "dbb67ffd-47d5-4ce4-a04c-ff4d987fdd1c"
      },
      "execution_count": 29,
      "outputs": [
        {
          "output_type": "stream",
          "name": "stdout",
          "text": [
            "7\n"
          ]
        }
      ]
    },
    {
      "cell_type": "code",
      "source": [
        "# Menggunakan Divide and Conquer\n",
        "\n",
        "def maxCrossingSum(arr,low,mid,high):\n",
        "    result=0; leftSum=float('-infinity')\n",
        "    for i in range(mid,low-1,-1):\n",
        "        result+=arr[i]\n",
        "        if result>leftSum:\n",
        "            leftSum=result\n",
        "    result=0; rightSum=float('-infinity')\n",
        "    for i in range(mid+1,high+1):\n",
        "        result+=arr[i]\n",
        "        if result>rightSum:\n",
        "            rightSum=result\n",
        "    return leftSum+rightSum\n",
        "\n",
        "\n",
        "def maxSum(arr,low,high):\n",
        "    if low==high:\n",
        "        return arr[low]\n",
        "    mid=(low+high)//2\n",
        "    return max(maxSum(arr,low,mid),maxSum(arr,mid+1,high),maxCrossingSum(arr,low,mid,high))"
      ],
      "metadata": {
        "id": "T6CatqiZp8S0"
      },
      "execution_count": 36,
      "outputs": []
    },
    {
      "cell_type": "code",
      "source": [
        "arr=[-2, -5, 6, -2, -3,  1, 5, -6]\n",
        "result=maxSum(arr,0,len(arr)-1)\n",
        "print(result)"
      ],
      "metadata": {
        "colab": {
          "base_uri": "https://localhost:8080/"
        },
        "id": "oBL12H-UtSS0",
        "outputId": "5ed90ffc-526c-4db3-ba91-bae5ec53bebc"
      },
      "execution_count": 37,
      "outputs": [
        {
          "output_type": "stream",
          "name": "stdout",
          "text": [
            "7\n"
          ]
        }
      ]
    },
    {
      "cell_type": "code",
      "source": [
        "def longestCommonPrefix(a):\n",
        "\n",
        "    size = len(a)\n",
        "\n",
        "    # if size is 0, return empty string\n",
        "    if (size == 0):\n",
        "        return \"\"\n",
        "\n",
        "    if (size == 1):\n",
        "        return a[0]\n",
        "\n",
        "    # sort the array of strings\n",
        "    a.sort()\n",
        "\n",
        "    #find the minimum length from\n",
        "    # first and last string\n",
        "    end = min(len(a[0]), len(a[size - 1]))\n",
        "\n",
        "    # find the common prefix between\n",
        "    # the first and last string\n",
        "    i = 0\n",
        "    while (i < end and\n",
        "           a[0][i] == a [size - 1][i]):\n",
        "      i += 1\n",
        "\n",
        "    pre = a[0][0 : i]\n",
        "    return pre"
      ],
      "metadata": {
        "id": "aW4RQqQFuG0D"
      },
      "execution_count": 39,
      "outputs": []
    },
    {
      "cell_type": "code",
      "source": [
        "arr=[\"geeksforgeeks\", \"geeks\", \"geek\", \"geezer\"]\n",
        "result=longestCommonPrefix(arr)\n",
        "print(result)"
      ],
      "metadata": {
        "colab": {
          "base_uri": "https://localhost:8080/"
        },
        "id": "FI1VdgTtvOuJ",
        "outputId": "e91c15f0-702e-44d6-8d0b-cfd12350de4c"
      },
      "execution_count": 40,
      "outputs": [
        {
          "output_type": "stream",
          "name": "stdout",
          "text": [
            "gee\n"
          ]
        }
      ]
    },
    {
      "cell_type": "code",
      "source": [
        "arr=[\"apple\",\"ape\",\"april\"]\n",
        "result=longestCommonPrefix(arr)\n",
        "print(result)"
      ],
      "metadata": {
        "colab": {
          "base_uri": "https://localhost:8080/"
        },
        "id": "CgZA6uztvPn-",
        "outputId": "95aeab16-a2b1-4027-f640-7e67d86d68b3"
      },
      "execution_count": 41,
      "outputs": [
        {
          "output_type": "stream",
          "name": "stdout",
          "text": [
            "ap\n"
          ]
        }
      ]
    },
    {
      "cell_type": "code",
      "source": [
        "# Median data dari2 array dengan divide dan conquer\n",
        "\n",
        "def medianOfArray(arr1,arr2,n):\n",
        "    m1=-1\n",
        "    m2=-1\n",
        "    count=0\n",
        "    i=j=0\n",
        "    while count<n+1:\n",
        "        count+=1\n",
        "        if i==n:\n",
        "           m1=m2\n",
        "           m2=arr2[0]\n",
        "           break\n",
        "        if j==n:\n",
        "           m1=m2\n",
        "           m2=arr1[0]\n",
        "           break\n",
        "        if arr1[i]<arr2[j]:\n",
        "           m1=m2\n",
        "           m2=arr1[i]\n",
        "           i+=1\n",
        "        else:\n",
        "           m1=m2\n",
        "           m2=arr2[j]\n",
        "           j+=1\n",
        "    return (m1+m2)//2\n",
        "\n",
        "arr1=[1, 12, 15, 26, 38]\n",
        "arr2=[2, 13, 17, 30, 45]\n",
        "\n",
        "print(medianOfArray(arr1,arr2,len(arr1)))"
      ],
      "metadata": {
        "colab": {
          "base_uri": "https://localhost:8080/"
        },
        "id": "Vpe5CurfveDy",
        "outputId": "83429d94-95f7-4760-cacd-4f9491a587e9"
      },
      "execution_count": 43,
      "outputs": [
        {
          "output_type": "stream",
          "name": "stdout",
          "text": [
            "16\n"
          ]
        }
      ]
    },
    {
      "cell_type": "code",
      "source": [
        " def Solution(arr):\n",
        "    n = len(arr)\n",
        "    # if length of array is even\n",
        "    if n % 2 == 0:\n",
        "        z = n // 2\n",
        "        e = arr[z]\n",
        "        q = arr[z - 1]\n",
        "        ans = (e + q) / 2\n",
        "        return ans\n",
        "    # if length of array is old\n",
        "    else:\n",
        "        z = n // 2\n",
        "        ans = arr[z]\n",
        "        return ans\n",
        "\n",
        "arr1 = [-5, 3, 6, 12, 15]\n",
        "arr2 = [-12, -10, -6, -3, 4, 10]\n",
        "#concatenating the two array\n",
        "arr3 = arr1 + arr2\n",
        "#sorting the resultant array\n",
        "arr3.sort()\n",
        "print(\"Median = \", Solution(arr3))"
      ],
      "metadata": {
        "colab": {
          "base_uri": "https://localhost:8080/"
        },
        "id": "xB_gMFUAwm7k",
        "outputId": "0f8aa6c4-c65b-4f22-d2f2-dd442dccabdc"
      },
      "execution_count": 44,
      "outputs": [
        {
          "output_type": "stream",
          "name": "stdout",
          "text": [
            "Median =  3\n"
          ]
        }
      ]
    },
    {
      "cell_type": "code",
      "source": [
        "#floor in sorted array\n",
        "\n",
        "def floorSorted(arr,low,high,x):\n",
        "    #print(low,high)\n",
        "    if low>high:\n",
        "      return -1\n",
        "\n",
        "    if arr[low]>x:\n",
        "      #print(\"inside\")\n",
        "      return -1\n",
        "\n",
        "    if arr[high]<=x:\n",
        "      return arr[high]\n",
        "\n",
        "    mid=(low+high)//2\n",
        "\n",
        "    if arr[mid]==x:\n",
        "      return arr[mid]\n",
        "\n",
        "    if mid>0 and x>=arr[mid-1] and arr[mid]>x:\n",
        "      return arr[mid-1]\n",
        "\n",
        "    if mid<high and x<=arr[mid+1] and x>=arr[mid]:\n",
        "      return arr[mid]\n",
        "\n",
        "    if x>arr[mid]:\n",
        "      return floorSorted(arr,mid+1,high,x)\n",
        "    else:\n",
        "      return floorSorted(arr,low,mid-1,x)\n",
        "\n",
        "arr=[1,2,8,10,12,14,19]\n",
        "x=5\n",
        "print(floorSorted(arr,0,len(arr)-1,x))"
      ],
      "metadata": {
        "colab": {
          "base_uri": "https://localhost:8080/"
        },
        "id": "ugITT8iw0_c5",
        "outputId": "aff804df-c9bb-41f8-cd22-a07dc8f0acb7"
      },
      "execution_count": 47,
      "outputs": [
        {
          "output_type": "stream",
          "name": "stdout",
          "text": [
            "2\n"
          ]
        }
      ]
    },
    {
      "cell_type": "code",
      "source": [
        "# Mencari nilai terdekat dengan metode divide dan conquer\n",
        "\n",
        "def closestNumber(arr,low,high,x):\n",
        "    if low>high:\n",
        "        return -1\n",
        "    if arr[high]<=x:\n",
        "        return arr[high]\n",
        "    if arr[low]>=x:\n",
        "        return arr[low]\n",
        "    mid=(low+high)//2\n",
        "    if arr[mid]==x:\n",
        "        return arr[mid]\n",
        "    abs_mid=abs(arr[mid-1]-x)\n",
        "    if mid>0:\n",
        "        abs_left=abs(arr[mid-1]-x)\n",
        "        if abs_left<abs_mid:\n",
        "            return closestNumber(arr,low,mid-1,x)\n",
        "    if mid<high:\n",
        "        abs_right=abs(arr[mid+1]-x)\n",
        "        if abs_rigt<abs_mid:\n",
        "            return closestNumber(arr,mid+1,high,x)\n",
        "    #print('after')\n",
        "    return arr[mid]\n",
        "\n",
        "arr=[2, 5, 6, 7, 8, 9]\n",
        "x = 9\n",
        "print(closestNumber(arr,0,len(arr)-1,x))"
      ],
      "metadata": {
        "colab": {
          "base_uri": "https://localhost:8080/"
        },
        "id": "E3-KtfS61804",
        "outputId": "8efb1d3e-3526-4b04-b229-93d692ea5e49"
      },
      "execution_count": 48,
      "outputs": [
        {
          "output_type": "stream",
          "name": "stdout",
          "text": [
            "9\n"
          ]
        }
      ]
    },
    {
      "cell_type": "code",
      "source": [
        "def find_closest(lst,k):\n",
        "    lst.sort()\n",
        "    closest_num = lst[0]\n",
        "    for num in lst:\n",
        "        if abs(num - k) < abs(closest_num - k):\n",
        "            closest_num = num\n",
        "        if num > k:\n",
        "            break\n",
        "    return closest_num\n",
        "\n",
        "lst = [3.64, 5.2, 9.42, 9.35, 8.5, 8]\n",
        "k = 9.1\n",
        "print(find_closest(lst, k))\n",
        "\n",
        "lst = [2,5,5,7,8,8,9]\n",
        "k = 6\n",
        "print(find_closest(lst, k))"
      ],
      "metadata": {
        "colab": {
          "base_uri": "https://localhost:8080/"
        },
        "id": "YVpNvT5V2Vdd",
        "outputId": "fe3635d6-acd9-4ea2-a1d4-b16e788d4cf8"
      },
      "execution_count": 49,
      "outputs": [
        {
          "output_type": "stream",
          "name": "stdout",
          "text": [
            "9.35\n",
            "5\n"
          ]
        }
      ]
    },
    {
      "cell_type": "code",
      "source": [
        "# Mencari fixed point dengan metode divide dan conquer\n",
        "\n",
        "def fixedPoint(arr,low,high):\n",
        "  if low>high:\n",
        "    return -1\n",
        "  if arr[high]==high:\n",
        "    return arr[high]\n",
        "  if arr[low]==low:\n",
        "    return arr[low]\n",
        "  mid=(low+high)//2\n",
        "  if arr[mid]==mid:\n",
        "    return arr[mid]\n",
        "  if mid>arr[mid]:\n",
        "    return fixedPoint(arr,mid+1,high)\n",
        "  else:\n",
        "    return fixedPoint(arr,low,mid-1)\n",
        "\n",
        "arr=[9,1,4,5,2]\n",
        "print(fixedPoint(arr,0,len(arr)-1))"
      ],
      "metadata": {
        "id": "_5tdZzB52cZ_",
        "outputId": "874aacec-c4c1-4984-b1f2-1143f1efa2f1",
        "colab": {
          "base_uri": "https://localhost:8080/"
        }
      },
      "execution_count": 50,
      "outputs": [
        {
          "output_type": "stream",
          "name": "stdout",
          "text": [
            "1\n"
          ]
        }
      ]
    }
  ]
}