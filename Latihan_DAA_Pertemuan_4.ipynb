{
  "nbformat": 4,
  "nbformat_minor": 0,
  "metadata": {
    "colab": {
      "provenance": [],
      "authorship_tag": "ABX9TyMI3uxPukZ6w9XYdQqXWi2k",
      "include_colab_link": true
    },
    "kernelspec": {
      "name": "python3",
      "display_name": "Python 3"
    },
    "language_info": {
      "name": "python"
    }
  },
  "cells": [
    {
      "cell_type": "markdown",
      "metadata": {
        "id": "view-in-github",
        "colab_type": "text"
      },
      "source": [
        "<a href=\"https://colab.research.google.com/github/FerdyAgustiann/Ferdy/blob/main/Latihan_DAA_Pertemuan_4.ipynb\" target=\"_parent\"><img src=\"https://colab.research.google.com/assets/colab-badge.svg\" alt=\"Open In Colab\"/></a>"
      ]
    },
    {
      "cell_type": "code",
      "execution_count": 1,
      "metadata": {
        "colab": {
          "base_uri": "https://localhost:8080/"
        },
        "id": "UxpY49Mfhgxs",
        "outputId": "b9836b4f-d416-45b2-d26e-5aa7f0d762e9"
      },
      "outputs": [
        {
          "output_type": "stream",
          "name": "stdout",
          "text": [
            "2 1\n"
          ]
        }
      ],
      "source": [
        "var1 = 1\n",
        "var2 = 2\n",
        "var1, var2 = var2, var1\n",
        "\n",
        "print(var1, var2)"
      ]
    },
    {
      "cell_type": "code",
      "source": [
        "# Latihan\n",
        "var1 = 1\n",
        "var2 = 2\n",
        "var3 = 3\n",
        "def swap(var1, var2, var3):\n",
        "  var1, var3 = var3, var1\n",
        "  print(var1, var2, var3)\n",
        "\n",
        "swap(var1, var2, var3)"
      ],
      "metadata": {
        "colab": {
          "base_uri": "https://localhost:8080/"
        },
        "id": "XmKgRqEeiNpu",
        "outputId": "716d8e97-3def-4e65-fa6f-e84fc893ffe5"
      },
      "execution_count": 2,
      "outputs": [
        {
          "output_type": "stream",
          "name": "stdout",
          "text": [
            "3 2 1\n"
          ]
        }
      ]
    },
    {
      "cell_type": "code",
      "source": [
        "list = [25, 21, 22, 24, 23, 27, 26]\n",
        "\n",
        "lastElementIndex = len(list) - 1\n",
        "print(0, list)\n",
        "for idx in range(lastElementIndex):\n",
        "  if list[idx] > list[idx + 1]:\n",
        "    list[idx], list[idx+1] = list[idx + 1], list[idx]\n",
        "  print(idx + 1, list)"
      ],
      "metadata": {
        "colab": {
          "base_uri": "https://localhost:8080/"
        },
        "id": "T4roXeKjiS6L",
        "outputId": "bb500076-44ef-4668-b23b-681376e9534b"
      },
      "execution_count": 3,
      "outputs": [
        {
          "output_type": "stream",
          "name": "stdout",
          "text": [
            "0 [25, 21, 22, 24, 23, 27, 26]\n",
            "1 [21, 25, 22, 24, 23, 27, 26]\n",
            "2 [21, 22, 25, 24, 23, 27, 26]\n",
            "3 [21, 22, 24, 25, 23, 27, 26]\n",
            "4 [21, 22, 24, 23, 25, 27, 26]\n",
            "5 [21, 22, 24, 23, 25, 27, 26]\n",
            "6 [21, 22, 24, 23, 25, 26, 27]\n"
          ]
        }
      ]
    },
    {
      "cell_type": "code",
      "source": [
        "def BubbleSort(list):\n",
        "  lastElementIndex = len(list) - 1\n",
        "  for passNo in range(lastElementIndex, 0, -1):\n",
        "    for idx in range(passNo):\n",
        "      if list[idx] > list[idx + 1]:\n",
        "        list[idx], list[idx + 1] = list[idx + 1], list[idx]\n",
        "  return list\n",
        "\n",
        "BubbleSort(list)"
      ],
      "metadata": {
        "colab": {
          "base_uri": "https://localhost:8080/"
        },
        "id": "T9OgvRFyidT2",
        "outputId": "d2084dc3-d8c6-4fdc-f6c3-9ecde8c08e09"
      },
      "execution_count": 4,
      "outputs": [
        {
          "output_type": "execute_result",
          "data": {
            "text/plain": [
              "[21, 22, 23, 24, 25, 26, 27]"
            ]
          },
          "metadata": {},
          "execution_count": 4
        }
      ]
    },
    {
      "cell_type": "code",
      "source": [
        "# Latihan\n",
        "list2 = [100, 20, 60, 90, 40, 30, 10]\n",
        "BubbleSort(list2)"
      ],
      "metadata": {
        "colab": {
          "base_uri": "https://localhost:8080/"
        },
        "id": "PkMBOotcikdt",
        "outputId": "56d0bc5a-9856-474a-f374-34ee90f371b5"
      },
      "execution_count": 5,
      "outputs": [
        {
          "output_type": "execute_result",
          "data": {
            "text/plain": [
              "[10, 20, 30, 40, 60, 90, 100]"
            ]
          },
          "metadata": {},
          "execution_count": 5
        }
      ]
    },
    {
      "cell_type": "code",
      "source": [
        "def InsertionSort(list):\n",
        "  for i in range(1, len(list)):\n",
        "    j = i - 1\n",
        "    next = list[i]\n",
        "\n",
        "    while (list[j] > next) and (j >= 0):\n",
        "      list[j+1] = list[j]\n",
        "      j = j - 1\n",
        "    list[j + 1] =  next\n",
        "  return list\n",
        "\n",
        "list3 = [35, 31, 32, 34, 33, 37, 36]\n",
        "InsertionSort(list3)"
      ],
      "metadata": {
        "colab": {
          "base_uri": "https://localhost:8080/"
        },
        "id": "xz-Q6dt8io5g",
        "outputId": "3f8fbe7c-dc35-4c92-cffe-66f5b6ce8d3f"
      },
      "execution_count": 6,
      "outputs": [
        {
          "output_type": "execute_result",
          "data": {
            "text/plain": [
              "[31, 32, 33, 34, 35, 36, 37]"
            ]
          },
          "metadata": {},
          "execution_count": 6
        }
      ]
    },
    {
      "cell_type": "code",
      "source": [
        "# Latihan\n",
        "list4 = [89, 12, 57, 16, 25, 11, 75]\n",
        "InsertionSort(list4)"
      ],
      "metadata": {
        "colab": {
          "base_uri": "https://localhost:8080/"
        },
        "id": "djWhiEtLitWX",
        "outputId": "abbd9acd-b88b-48f1-9d46-5090c50c65ce"
      },
      "execution_count": 7,
      "outputs": [
        {
          "output_type": "execute_result",
          "data": {
            "text/plain": [
              "[11, 12, 16, 25, 57, 75, 89]"
            ]
          },
          "metadata": {},
          "execution_count": 7
        }
      ]
    },
    {
      "cell_type": "code",
      "source": [
        "def SelectionSort(list):\n",
        "  for fill_slot in range(len(list) - 1, 0, -1):\n",
        "    max_index = 0\n",
        "    for location in range(1, fill_slot + 1):\n",
        "      if list[location] > list[max_index]:\n",
        "        max_index = location\n",
        "      list[fill_slot], list[max_index] = list[max_index], list[fill_slot]\n",
        "  return list\n",
        "\n",
        "list5 = [70, 15, 25, 19, 34, 44]\n",
        "SelectionSort(list5)"
      ],
      "metadata": {
        "colab": {
          "base_uri": "https://localhost:8080/"
        },
        "id": "iBf3Pnjdix2p",
        "outputId": "b46ee1f6-eeb2-4bc6-a430-e764a03d64d0"
      },
      "execution_count": 8,
      "outputs": [
        {
          "output_type": "execute_result",
          "data": {
            "text/plain": [
              "[15, 19, 25, 34, 44, 70]"
            ]
          },
          "metadata": {},
          "execution_count": 8
        }
      ]
    },
    {
      "cell_type": "code",
      "source": [
        "# Latihan\n",
        "list6 = [89, 12, 57, 16, 25]\n",
        "SelectionSort(list6)"
      ],
      "metadata": {
        "colab": {
          "base_uri": "https://localhost:8080/"
        },
        "id": "s6pHMbZ4i272",
        "outputId": "0fc269d3-ef18-457a-cca4-040b38c0cf66"
      },
      "execution_count": 9,
      "outputs": [
        {
          "output_type": "execute_result",
          "data": {
            "text/plain": [
              "[12, 16, 25, 57, 89]"
            ]
          },
          "metadata": {},
          "execution_count": 9
        }
      ]
    },
    {
      "cell_type": "code",
      "source": [
        "def LinearSearch(list, item):\n",
        "  index = 0\n",
        "  found = False\n",
        "\n",
        "  while index < len(list) and found is False:\n",
        "    if list[index] == item:\n",
        "      found = True\n",
        "    else:\n",
        "      index = index + 1\n",
        "  return found\n",
        "\n",
        "list7 = [12, 33, 11, 99, 22, 55, 90]\n",
        "print(LinearSearch(list7, 12))\n",
        "print(LinearSearch(list7, 91))"
      ],
      "metadata": {
        "colab": {
          "base_uri": "https://localhost:8080/"
        },
        "id": "nRlOY_LFi7Ol",
        "outputId": "8831406a-da64-429a-9721-042755a50d68"
      },
      "execution_count": 10,
      "outputs": [
        {
          "output_type": "stream",
          "name": "stdout",
          "text": [
            "True\n",
            "False\n"
          ]
        }
      ]
    },
    {
      "cell_type": "code",
      "source": [
        "# Latihan\n",
        "list8 = [\"y\", \"u\", \"i\", \"w\", \"o\", \"a\", \"q\", \"u\", \"j\", \"p\"]\n",
        "\n",
        "print(LinearSearch(list8, \"a\"))"
      ],
      "metadata": {
        "colab": {
          "base_uri": "https://localhost:8080/"
        },
        "id": "dTI1kRl3i_tg",
        "outputId": "5a125bac-fd70-46d8-a586-3c4f374bd907"
      },
      "execution_count": 11,
      "outputs": [
        {
          "output_type": "stream",
          "name": "stdout",
          "text": [
            "True\n"
          ]
        }
      ]
    },
    {
      "cell_type": "code",
      "source": [
        "def BinarySearch(list, item):\n",
        "  first = 0\n",
        "  last = len(list) - 1\n",
        "  found = False\n",
        "\n",
        "  while first <= last and not found:\n",
        "    midpoint = (first + last) // 2\n",
        "    if list[midpoint] == item:\n",
        "      found = True\n",
        "    else:\n",
        "      if item < list[midpoint]:\n",
        "        last = midpoint - 1\n",
        "      else:\n",
        "        first = midpoint + 1\n",
        "  return found\n",
        "\n",
        "print(BinarySearch(BubbleSort(list7), 12))\n",
        "print(BinarySearch(BubbleSort(list7), 91))"
      ],
      "metadata": {
        "colab": {
          "base_uri": "https://localhost:8080/"
        },
        "id": "XRN85pt1jJDr",
        "outputId": "da8da8ff-271c-48f0-aa62-0db5d3cf0d86"
      },
      "execution_count": 12,
      "outputs": [
        {
          "output_type": "stream",
          "name": "stdout",
          "text": [
            "True\n",
            "False\n"
          ]
        }
      ]
    },
    {
      "cell_type": "code",
      "source": [
        "# Latihan\n",
        "print(BinarySearch(BubbleSort(list8), \"a\"))"
      ],
      "metadata": {
        "colab": {
          "base_uri": "https://localhost:8080/"
        },
        "id": "sZoMwOt9jM7a",
        "outputId": "49a0d729-08fb-465a-87c8-f87e64a8aef2"
      },
      "execution_count": 13,
      "outputs": [
        {
          "output_type": "stream",
          "name": "stdout",
          "text": [
            "True\n"
          ]
        }
      ]
    },
    {
      "cell_type": "code",
      "source": [
        "def IntPolSearch(list, x):\n",
        "  idx0 = 0\n",
        "  idxn = (len(list) - 1)\n",
        "  found = False\n",
        "\n",
        "  while idx0 <= idxn and x >= list[idx0] and x <= list[idxn]:\n",
        "    mid = idx0 + int(((float(idxn - idx0) / (list[idxn] - list[idx0])) * (x - list[idx0])))\n",
        "\n",
        "    if list[mid] == x:\n",
        "      found = True\n",
        "      return found\n",
        "\n",
        "    if list[mid] < x:\n",
        "      idx0 = mid + 1\n",
        "\n",
        "  return found\n",
        "\n",
        "print(IntPolSearch(BubbleSort(list7), 12))\n",
        "print(IntPolSearch(BubbleSort(list7), 9))"
      ],
      "metadata": {
        "colab": {
          "base_uri": "https://localhost:8080/"
        },
        "id": "FoD43lM4jRWd",
        "outputId": "30b23b49-1ebb-4412-a3dc-850d9f442b6d"
      },
      "execution_count": 14,
      "outputs": [
        {
          "output_type": "stream",
          "name": "stdout",
          "text": [
            "True\n",
            "False\n"
          ]
        }
      ]
    },
    {
      "cell_type": "code",
      "source": [
        "# Latihan\n",
        "# Sedikit modifikasi agar dapat mencari string\n",
        "def InterpolationSearch(list, x):\n",
        "    idx0 = 0\n",
        "    idxn = len(list) - 1\n",
        "    found = False\n",
        "\n",
        "    while idx0 <= idxn and x >= list[idx0] and x <= list[idxn]:\n",
        "        mid = idx0 + int(((idxn - idx0) / (idxn - idx0)) * (idxn - idx0))\n",
        "\n",
        "        if list[mid] == x:\n",
        "            found = True\n",
        "            return found\n",
        "\n",
        "        elif list[mid] < x:\n",
        "            idx0 = mid + 1\n",
        "\n",
        "        else:\n",
        "            idxn = mid - 1\n",
        "\n",
        "    return found\n",
        "\n",
        "print(InterpolationSearch(BubbleSort(list8), \"u\"))\n",
        ""
      ],
      "metadata": {
        "colab": {
          "base_uri": "https://localhost:8080/"
        },
        "id": "jkhtXGWNjWRw",
        "outputId": "1b6a76c6-fc49-4d72-e3d0-35891b4f2277"
      },
      "execution_count": 15,
      "outputs": [
        {
          "output_type": "stream",
          "name": "stdout",
          "text": [
            "True\n"
          ]
        }
      ]
    }
  ]
}