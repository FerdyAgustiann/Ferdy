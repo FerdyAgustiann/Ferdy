{
  "nbformat": 4,
  "nbformat_minor": 0,
  "metadata": {
    "colab": {
      "provenance": [],
      "authorship_tag": "ABX9TyPCNiGM0zXPvYXAiD3dlHZF",
      "include_colab_link": true
    },
    "kernelspec": {
      "name": "python3",
      "display_name": "Python 3"
    },
    "language_info": {
      "name": "python"
    }
  },
  "cells": [
    {
      "cell_type": "markdown",
      "metadata": {
        "id": "view-in-github",
        "colab_type": "text"
      },
      "source": [
        "<a href=\"https://colab.research.google.com/github/FerdyAgustiann/Ferdy/blob/main/Latihan_DAA_Pertemuan_10.ipynb\" target=\"_parent\"><img src=\"https://colab.research.google.com/assets/colab-badge.svg\" alt=\"Open In Colab\"/></a>"
      ]
    },
    {
      "cell_type": "code",
      "execution_count": 82,
      "metadata": {
        "colab": {
          "base_uri": "https://localhost:8080/"
        },
        "id": "7TpkkRzHk2p5",
        "outputId": "ffad9a08-0411-45ce-8825-82906b378412"
      },
      "outputs": [
        {
          "output_type": "stream",
          "name": "stdout",
          "text": [
            "Requirement already satisfied: pulp in /usr/local/lib/python3.10/dist-packages (2.7.0)\n"
          ]
        }
      ],
      "source": [
        "pip install pulp"
      ]
    },
    {
      "cell_type": "code",
      "source": [
        "import pulp"
      ],
      "metadata": {
        "id": "L1RYfZRPlGX7"
      },
      "execution_count": 83,
      "outputs": []
    },
    {
      "cell_type": "code",
      "source": [
        "# Instantiate our problem class\n",
        "model = pulp.LpProblem(\"ProfitMaximisingProblem\", pulp.LpMaximize)"
      ],
      "metadata": {
        "id": "h6K38jtXlL2f"
      },
      "execution_count": 84,
      "outputs": []
    },
    {
      "cell_type": "code",
      "source": [
        "A = pulp.LpVariable('A', lowBound=0, cat='Integer')\n",
        "B = pulp.LpVariable('B', lowBound=0, cat='Integer')"
      ],
      "metadata": {
        "id": "svQLUi0MlQjR"
      },
      "execution_count": 85,
      "outputs": []
    },
    {
      "cell_type": "code",
      "source": [
        "# Objective function\n",
        "model += 4200 * A + 2800 * B, \"Profit\"\n",
        "# Constraints\n",
        "model += 3 * A + 2 * B <= 20\n",
        "model += 4 * A + 3 * B <= 30\n",
        "model += 4 * A + 3 * B <= 44"
      ],
      "metadata": {
        "id": "77To35PpmWhq"
      },
      "execution_count": 86,
      "outputs": []
    },
    {
      "cell_type": "code",
      "source": [
        "# Solve our problem\n",
        "model.solve()\n",
        "pulp.LpStatus[model.status]"
      ],
      "metadata": {
        "colab": {
          "base_uri": "https://localhost:8080/",
          "height": 36
        },
        "id": "lIwnGAltm7K4",
        "outputId": "fb7decbe-b143-4f08-d56b-1f702d863d6f"
      },
      "execution_count": 87,
      "outputs": [
        {
          "output_type": "execute_result",
          "data": {
            "text/plain": [
              "'Optimal'"
            ],
            "application/vnd.google.colaboratory.intrinsic+json": {
              "type": "string"
            }
          },
          "metadata": {},
          "execution_count": 87
        }
      ]
    },
    {
      "cell_type": "code",
      "source": [
        "# Print our decision variable values\n",
        "print (A.varValue)\n",
        "print (B.varValue)"
      ],
      "metadata": {
        "colab": {
          "base_uri": "https://localhost:8080/"
        },
        "id": "Y9K3xExKnF64",
        "outputId": "a229ac70-0a28-482f-ee43-28df96b48657"
      },
      "execution_count": 88,
      "outputs": [
        {
          "output_type": "stream",
          "name": "stdout",
          "text": [
            "6.0\n",
            "1.0\n"
          ]
        }
      ]
    },
    {
      "cell_type": "code",
      "source": [
        "# Print our objective function value\n",
        "print (pulp.value(model.objective))"
      ],
      "metadata": {
        "colab": {
          "base_uri": "https://localhost:8080/"
        },
        "id": "7VcqJhTQnS-p",
        "outputId": "1e9e7bf2-0ced-42b0-8306-16873a5a4ca0"
      },
      "execution_count": 89,
      "outputs": [
        {
          "output_type": "stream",
          "name": "stdout",
          "text": [
            "28000.0\n"
          ]
        }
      ]
    },
    {
      "cell_type": "code",
      "source": [
        "#Latihan 1\n",
        "# 4x + 3y = 34\n",
        "import pulp\n",
        "\n",
        "# Membuat objek masalah optimasi\n",
        "model = pulp.LpProblem(name=\"Pemecahan_Persamaan\", sense=pulp.LpMinimize)\n",
        "\n",
        "# Membuat variabel x dan y\n",
        "x = pulp.LpVariable(name=\"x\")\n",
        "y = pulp.LpVariable(name=\"y\")\n",
        "\n",
        "# Menambahkan batasan\n",
        "model += 4 * x + 3 * y == 34\n",
        "\n",
        "# Menyelesaikan masalah\n",
        "model.solve()\n",
        "\n",
        "# Menampilkan hasil\n",
        "print(\"Status:\", model.status)\n",
        "print(\"Nilai x =\", x.varValue)\n",
        "print(\"Nilai y =\", y.varValue)"
      ],
      "metadata": {
        "colab": {
          "base_uri": "https://localhost:8080/"
        },
        "id": "8_kjp_7ansK6",
        "outputId": "ee269aed-3c56-4e5d-bacd-a7c2139acc93"
      },
      "execution_count": 90,
      "outputs": [
        {
          "output_type": "stream",
          "name": "stdout",
          "text": [
            "Status: 1\n",
            "Nilai x = 8.5\n",
            "Nilai y = 0.0\n"
          ]
        }
      ]
    },
    {
      "cell_type": "code",
      "source": [
        "# Latihan 2\n",
        "# 5x + y = 37\n",
        "import pulp\n",
        "\n",
        " # Membuat objek masalah optimasi\n",
        "model = pulp.LpProblem(name=\"Pemecahan_Persamaan\", sense=pulp.LpMinimize)\n",
        "\n",
        " #Membuat variable x dan y\n",
        "x = pulp.LpVariable(name=\"x\")\n",
        "y = pulp.LpVariable(name=\"y\")\n",
        "\n",
        " # Menambahkan Batasan\n",
        "model += 5 * x + 1 * y == 37\n",
        "\n",
        " # Menyelesaikan Masalah\n",
        "model.solve()\n",
        "\n",
        " # Menampilkan Hasil\n",
        "print(\"Status:\", model.status)\n",
        "print(\"Nilai x =\", x.varValue)\n",
        "print(\"Nilai y =\", y.varValue)"
      ],
      "metadata": {
        "colab": {
          "base_uri": "https://localhost:8080/"
        },
        "id": "R35QMiu51AwY",
        "outputId": "57c89310-5001-4929-8666-6d9f86e37af9"
      },
      "execution_count": 91,
      "outputs": [
        {
          "output_type": "stream",
          "name": "stdout",
          "text": [
            "Status: 1\n",
            "Nilai x = 7.4\n",
            "Nilai y = 0.0\n"
          ]
        }
      ]
    },
    {
      "cell_type": "code",
      "source": [
        "# Latihan Soal Cerita 1\n",
        "model = pulp.LpProblem(\"ProfitMaximisingProblem\", pulp.LpMaximize)\n",
        "X = pulp.LpVariable('X', lowBound=0, cat='Integer')\n",
        "Y = pulp.LpVariable('Y', lowBound=0, cat='Integer')\n",
        "\n",
        "model += 3 * X + 4 * Y == 11000\n",
        "model += 1 * X + 7 * Y == 15000\n",
        "model += 2 * X + 6 * Y, 'Hasil'\n",
        "\n",
        "model.solve()\n",
        "pulp.LpStatus[model.status]\n",
        "\n",
        "print (X.varValue)\n",
        "print (Y.varValue)\n",
        "print (pulp.value(model.objective))"
      ],
      "metadata": {
        "colab": {
          "base_uri": "https://localhost:8080/"
        },
        "id": "hG1qjEFL4au9",
        "outputId": "5997a931-74c5-43a3-8d7b-64b9dc588a77"
      },
      "execution_count": 92,
      "outputs": [
        {
          "output_type": "stream",
          "name": "stdout",
          "text": [
            "1000.0\n",
            "2000.0\n",
            "14000.0\n"
          ]
        }
      ]
    },
    {
      "cell_type": "code",
      "source": [
        "# Latihan Soal cerita 2\n",
        "model = pulp.LpProblem(\"KelilingPersegiPanjang\", pulp.LpMaximize)\n",
        "X = pulp.LpVariable('X', lowBound=0, cat='Integer')\n",
        "Y = pulp.LpVariable('Y', lowBound=0, cat='Integer')\n",
        "\n",
        "model += 2 * X + 2 * Y, 'Keliling'\n",
        "\n",
        "model += 2 * X + 2 * Y == 44\n",
        "model += 2 * X + 2 * (X - 6) == 44\n",
        "\n",
        "model.solve()\n",
        "pulp.LpStatus[model.status]\n",
        "\n",
        "print (X.varValue)\n",
        "print (Y.varValue)\n",
        "print (pulp.value(model.objective))"
      ],
      "metadata": {
        "colab": {
          "base_uri": "https://localhost:8080/"
        },
        "id": "d3P2GDLK3qVq",
        "outputId": "42ee2866-0f88-44b2-8758-318dcf695b3c"
      },
      "execution_count": 93,
      "outputs": [
        {
          "output_type": "stream",
          "name": "stdout",
          "text": [
            "14.0\n",
            "8.0\n",
            "44.0\n"
          ]
        }
      ]
    },
    {
      "cell_type": "code",
      "source": [
        "# Import required libraries\n",
        "import numpy as np\n",
        "from scipy.optimize import linprog"
      ],
      "metadata": {
        "id": "Wq_0BQtHsMvO"
      },
      "execution_count": 94,
      "outputs": []
    },
    {
      "cell_type": "code",
      "source": [
        "# Set the inequality constraints matrix\n",
        "# Note: the inequality constraints must be in the form of <=\n",
        "A = np.array([[1, 0], [2, 3], [1, 1], [-1, 0], [0, -1]])"
      ],
      "metadata": {
        "id": "ohlxR-Qcsh1d"
      },
      "execution_count": 95,
      "outputs": []
    },
    {
      "cell_type": "code",
      "source": [
        "# Set the inequality constraints vector\n",
        "b = np.array([16, 19, 8, 0, 0])"
      ],
      "metadata": {
        "id": "OwhYZXVltKqP"
      },
      "execution_count": 96,
      "outputs": []
    },
    {
      "cell_type": "code",
      "source": [
        "# Set the coefficients of the linear objective function vector\n",
        "# Note: when maximizing, change the signs of the c vector coefficient\n",
        "c = np.array([-5, -7])"
      ],
      "metadata": {
        "id": "p4Orbyxuto95"
      },
      "execution_count": 97,
      "outputs": []
    },
    {
      "cell_type": "code",
      "source": [
        "# Solve linear programming problem\n",
        "res = linprog(c, A_ub=A, b_ub=b)"
      ],
      "metadata": {
        "id": "LkQDQGqzuSc4"
      },
      "execution_count": 98,
      "outputs": []
    },
    {
      "cell_type": "code",
      "source": [
        "# Print results\n",
        "print('Optimal value:', round(res.fun*-1, ndigits=2),\n",
        "      '\\nx values:', res.x,\n",
        "      '\\nNumber of iterations performed:', res.nit,\n",
        "      '\\nStatus:', res.message)"
      ],
      "metadata": {
        "colab": {
          "base_uri": "https://localhost:8080/"
        },
        "id": "mm6iFSzluhZp",
        "outputId": "77c01ff6-2d5e-4849-fc33-b5f915593e87"
      },
      "execution_count": 99,
      "outputs": [
        {
          "output_type": "stream",
          "name": "stdout",
          "text": [
            "Optimal value: 46.0 \n",
            "x values: [5. 3.] \n",
            "Number of iterations performed: 3 \n",
            "Status: Optimization terminated successfully. (HiGHS Status 7: Optimal)\n"
          ]
        }
      ]
    },
    {
      "cell_type": "code",
      "source": [
        "# 1.Impor modul yang diperlukan dari Scipy:\n",
        "\n",
        "from scipy.optimize import linprog\n",
        "\n",
        "# 2. Tentukan koefisien fungsi tujuan dan matriks batasan:\n",
        "\n",
        "# Koefisien fungsi tujuan (Z = 5x1 + 7x2)\n",
        "c = [-5, -7] # Karena kita ingin \"maksimalkan\" -5x1 - 7x2, maka perlu diubah menjadi \"-5\" dan \"-7\".\n",
        "\n",
        "# Koefisien matriks batasan\n",
        "A = [\n",
        "    [1, 0], # 1x1 + 0x2 <= 16\n",
        "    [2, 3], # 2x1 + 3x2 <= 19\n",
        "    [1, 1], # 1x1 + 1x2 <= 8\n",
        "]\n",
        "\n",
        "# Batasan kanan (rhs) dari masing-masing batasan\n",
        "b = [16, 19, 8]\n",
        "\n",
        "# 3. Tentukan batasan variabel x1 dan x2 sebagai variabel non-negatif:\n",
        "\n",
        "x1_bounds = (0, None) # x1 >= 0\n",
        "x2_bounds = (0, None) # x2 >= 0"
      ],
      "metadata": {
        "id": "38AjHDDKvaSE"
      },
      "execution_count": 100,
      "outputs": []
    },
    {
      "cell_type": "code",
      "source": [
        "# 4. Gunakan linprog untuk menyelesaikan masalah pemrograman linier:\n",
        "\n",
        "result = linprog(c, A_ub=A, b_ub=b, bounds=[x1_bounds, x2_bounds], method=\"highs\")\n",
        "\n",
        "# 5. Tampilkan hasilnya:\n",
        "\n",
        "# Hasil optimasi\n",
        "print(\"Optimasi Solution:\")\n",
        "print(\"x1 =\", result.x[0])\n",
        "print(\"x2 =\", result.x[1])\n",
        "print(\"Max Z =\", -result.fun) # Karena tujuannya adalah memaksimalkan -z"
      ],
      "metadata": {
        "colab": {
          "base_uri": "https://localhost:8080/"
        },
        "id": "U52hbpT6x5y5",
        "outputId": "5d45a3d1-723d-45ce-a085-0d3d2a8fe0aa"
      },
      "execution_count": 101,
      "outputs": [
        {
          "output_type": "stream",
          "name": "stdout",
          "text": [
            "Optimasi Solution:\n",
            "x1 = 5.0\n",
            "x2 = 3.0\n",
            "Max Z = 46.0\n"
          ]
        }
      ]
    },
    {
      "cell_type": "code",
      "source": [
        "from scipy.optimize import linprog\n",
        "#latihan dengan scipy 1\n",
        "\n",
        "# Fungsi objektif untuk mencari nilai x dan y\n",
        "c = [-1, -1]  # Karena linprog mencari minimum, kita gunakan koefisien -1 untuk mencari nilai maksimum dari -x dan -y.\n",
        "\n",
        "# Batasan persamaan\n",
        "A_eq = [[4, 12]]  # Matriks koefisien persamaan\n",
        "b_eq = [28]  # Hasil dari persamaan\n",
        "\n",
        "# Batasan variabel\n",
        "x_bounds = (0, None)\n",
        "y_bounds = (0, None)\n",
        "\n",
        "# Solusi pemrograman linear\n",
        "result = linprog(c, A_eq=A_eq, b_eq=b_eq, bounds=[x_bounds, y_bounds])\n",
        "\n",
        "if result.success:\n",
        "    x, y = result.x\n",
        "    max_value = -result.fun  # Kita mengambil nilai maksimum dari -x dan -y.\n",
        "\n",
        "    print(\"Nilai x:\", x)\n",
        "    print(\"Nilai y:\", y)\n",
        "    print(\"Nilai maksimum (x + y):\", max_value)\n",
        "else:\n",
        "    print(\"Tidak ada solusi optimal yang ditemukan.\")"
      ],
      "metadata": {
        "colab": {
          "base_uri": "https://localhost:8080/"
        },
        "id": "Qw82vrkmH58i",
        "outputId": "c0dd4e4e-95b5-41b5-aac0-af0f250eeb31"
      },
      "execution_count": 102,
      "outputs": [
        {
          "output_type": "stream",
          "name": "stdout",
          "text": [
            "Nilai x: 7.0\n",
            "Nilai y: 0.0\n",
            "Nilai maksimum (x + y): 7.0\n"
          ]
        }
      ]
    },
    {
      "cell_type": "code",
      "source": [
        "from scipy.optimize import linprog\n",
        "#latihan dengan scipy 2\n",
        "\n",
        "# Fungsi objektif (karena linprog mencari minimum, kita perlu mengubah tanda)\n",
        "c = [-1, -1]  # Kita gunakan koefisien -1 untuk mencari maksimum dari -x dan -y.\n",
        "\n",
        "# Batasan persamaan\n",
        "A_eq = [[2, 1]]  # Matriks koefisien persamaan\n",
        "b_eq = [21]  # Hasil dari persamaan\n",
        "\n",
        "# Batasan variabel\n",
        "x_bounds = (0, None)\n",
        "y_bounds = (0, None)\n",
        "\n",
        "# Solusi pemrograman linear\n",
        "result = linprog(c, A_eq=A_eq, b_eq=b_eq, bounds=[x_bounds, y_bounds])\n",
        "\n",
        "if result.success:\n",
        "    x, y = result.x\n",
        "    max_value = -result.fun  # Kita mengambil maksimum dari -x dan -y.\n",
        "\n",
        "    print(\"Nilai x:\", x)\n",
        "    print(\"Nilai y:\", y)\n",
        "    print(\"Nilai maksimum (x + y):\", max_value)\n",
        "else:\n",
        "    print(\"Tidak ada solusi optimal yang ditemukan.\")"
      ],
      "metadata": {
        "colab": {
          "base_uri": "https://localhost:8080/"
        },
        "id": "ikqd3EX9H91g",
        "outputId": "cd2622b0-7f29-4e7d-b38a-72acb4dca958"
      },
      "execution_count": 103,
      "outputs": [
        {
          "output_type": "stream",
          "name": "stdout",
          "text": [
            "Nilai x: 0.0\n",
            "Nilai y: 21.0\n",
            "Nilai maksimum (x + y): 21.0\n"
          ]
        }
      ]
    },
    {
      "cell_type": "code",
      "source": [
        "from scipy.optimize import linprog\n",
        "#latihan dengan scipy 3\n",
        "# Fungsi objektif (karena linprog mencari minimum, kita perlu mengubah tanda)\n",
        "c = [-3, -4]\n",
        "\n",
        "# Batasan-batasan\n",
        "A = [\n",
        "    [-3, -4],\n",
        "    [-1, -1]\n",
        "]\n",
        "\n",
        "b = [-55, -16]\n",
        "\n",
        "# Batasan variabel\n",
        "L_bounds = (0, None)\n",
        "M_bounds = (0, None)\n",
        "\n",
        "# Solusi pemrograman linear\n",
        "result = linprog(c, A_ub=A, b_ub=b, bounds=[L_bounds, M_bounds])\n",
        "\n",
        "if result.success:\n",
        "    L, M = result.x\n",
        "    min_value = result.fun\n",
        "\n",
        "    print(\"Jam kerja Lisa (L):\", L)\n",
        "    print(\"Jam kerja Muri (M):\", M)\n",
        "    print(\"Nilai minimum:\", min_value)\n",
        "else:\n",
        "    print(\"Tidak ada solusi optimal yang ditemukan.\")"
      ],
      "metadata": {
        "colab": {
          "base_uri": "https://localhost:8080/"
        },
        "id": "_g8iqqVpIFQ2",
        "outputId": "97fca604-7fb4-4edb-a9a2-e558349a9063"
      },
      "execution_count": 104,
      "outputs": [
        {
          "output_type": "stream",
          "name": "stdout",
          "text": [
            "Tidak ada solusi optimal yang ditemukan.\n"
          ]
        }
      ]
    }
  ]
}