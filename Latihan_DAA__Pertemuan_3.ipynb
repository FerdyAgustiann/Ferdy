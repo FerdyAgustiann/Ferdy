{
  "cells": [
    {
      "cell_type": "markdown",
      "metadata": {
        "id": "view-in-github",
        "colab_type": "text"
      },
      "source": [
        "<a href=\"https://colab.research.google.com/github/FerdyAgustiann/Ferdy/blob/main/Latihan_DAA__Pertemuan_3.ipynb\" target=\"_parent\"><img src=\"https://colab.research.google.com/assets/colab-badge.svg\" alt=\"Open In Colab\"/></a>"
      ]
    },
    {
      "cell_type": "code",
      "execution_count": null,
      "metadata": {
        "colab": {
          "base_uri": "https://localhost:8080/"
        },
        "id": "fhWg4PCEJB0a",
        "outputId": "d77799e5-6833-4eca-b1e6-0c275b421eae"
      },
      "outputs": [
        {
          "name": "stdout",
          "output_type": "stream",
          "text": [
            "['Ferdy Agustian', '2022071018', 'Informatika', 'Desain dan Analisis Algoritma', '2023-09-13', 'Universitas Pembangunan Jaya']\n"
          ]
        }
      ],
      "source": [
        "import datetime\n",
        "tanggal_hari_ini = str(datetime.date.today())\n",
        "aList = [\"Ferdy Agustian\",\"2022071018\",\"Informatika\",\"Desain dan Analisis Algoritma\",tanggal_hari_ini,\"Universitas Pembangunan Jaya\"]\n",
        "print(aList)"
      ]
    },
    {
      "cell_type": "code",
      "execution_count": null,
      "metadata": {
        "colab": {
          "base_uri": "https://localhost:8080/",
          "height": 36
        },
        "id": "BfAJrkBBNYuw",
        "outputId": "9418b3d6-4b5e-42e7-fdd1-aed8cda88e38"
      },
      "outputs": [
        {
          "data": {
            "application/vnd.google.colaboratory.intrinsic+json": {
              "type": "string"
            },
            "text/plain": [
              "'Red'"
            ]
          },
          "execution_count": 31,
          "metadata": {},
          "output_type": "execute_result"
        }
      ],
      "source": [
        "bin_colors=['Red','Green','Blue','Yellow']\n",
        "bin_colors[0]"
      ]
    },
    {
      "cell_type": "code",
      "execution_count": null,
      "metadata": {
        "colab": {
          "base_uri": "https://localhost:8080/"
        },
        "id": "cguikEuHR0qO",
        "outputId": "ef782a65-3662-422a-f220-069cfae9fb5c"
      },
      "outputs": [
        {
          "name": "stdout",
          "output_type": "stream",
          "text": [
            "2022071018\n"
          ]
        }
      ],
      "source": [
        "print(aList[1])"
      ]
    },
    {
      "cell_type": "code",
      "execution_count": null,
      "metadata": {
        "colab": {
          "base_uri": "https://localhost:8080/"
        },
        "id": "U0qiXPorSiZW",
        "outputId": "d2d5ba86-4ffc-41fc-fdcd-2d06322a1f36"
      },
      "outputs": [
        {
          "name": "stdout",
          "output_type": "stream",
          "text": [
            "Universitas Pembangunan Jaya\n"
          ]
        }
      ],
      "source": [
        "print(aList[5])"
      ]
    },
    {
      "cell_type": "code",
      "execution_count": null,
      "metadata": {
        "colab": {
          "base_uri": "https://localhost:8080/"
        },
        "id": "KR4VZffiSwRO",
        "outputId": "aa4314e6-487f-45be-f394-a3b99be98dc3"
      },
      "outputs": [
        {
          "name": "stdout",
          "output_type": "stream",
          "text": [
            "['Green', 'Blue']\n"
          ]
        }
      ],
      "source": [
        "print (bin_colors[1:3])"
      ]
    },
    {
      "cell_type": "code",
      "execution_count": null,
      "metadata": {
        "colab": {
          "base_uri": "https://localhost:8080/"
        },
        "id": "nyuNuo_mUe-K",
        "outputId": "e93d6eb8-79c6-4e16-9df9-9948edd353d8"
      },
      "outputs": [
        {
          "name": "stdout",
          "output_type": "stream",
          "text": [
            "['2022071018', 'Informatika']\n"
          ]
        }
      ],
      "source": [
        "print (aList[1:3])"
      ]
    },
    {
      "cell_type": "code",
      "execution_count": null,
      "metadata": {
        "colab": {
          "base_uri": "https://localhost:8080/"
        },
        "id": "8VlaS3aOUwqw",
        "outputId": "c1b207b8-d3be-4bfc-a0da-8793885eabca"
      },
      "outputs": [
        {
          "name": "stdout",
          "output_type": "stream",
          "text": [
            "Red Square \n",
            "Green Square \n",
            "Blue Square \n",
            "Yellow Square \n"
          ]
        }
      ],
      "source": [
        "for aColor in bin_colors:\n",
        " print(aColor + \" Square \")\n"
      ]
    },
    {
      "cell_type": "code",
      "execution_count": null,
      "metadata": {
        "colab": {
          "base_uri": "https://localhost:8080/"
        },
        "id": "egD2YDOEVvJN",
        "outputId": "ec2e160b-f215-426c-b23d-79fb8dcea8f0"
      },
      "outputs": [
        {
          "output_type": "stream",
          "name": "stdout",
          "text": [
            "UPJ Ferdy Agustian\n",
            "UPJ 2022071018\n",
            "UPJ Informatika\n",
            "UPJ Desain dan Analisis Algoritma\n",
            "UPJ 2023-09-13\n",
            "UPJ Universitas Pembangunan Jaya\n"
          ]
        }
      ],
      "source": [
        "for dataMahasiswa in aList:\n",
        "  print(\"UPJ\" , dataMahasiswa)"
      ]
    },
    {
      "cell_type": "code",
      "execution_count": null,
      "metadata": {
        "colab": {
          "base_uri": "https://localhost:8080/"
        },
        "id": "xiiAAt4_X8yT",
        "outputId": "6ee40fab-b314-4a64-9fd6-635abff4eff3"
      },
      "outputs": [
        {
          "output_type": "stream",
          "name": "stdout",
          "text": [
            "Ferdy Agustian Square\n",
            "2022071018 Square\n",
            "Informatika Square\n",
            "Desain dan Analisis Algoritma Square\n",
            "2023-09-13 Square\n",
            "Universitas Pembangunan Jaya Square\n"
          ]
        }
      ],
      "source": [
        "for dataMahasiswa in aList:\n",
        "  print(dataMahasiswa , \"Square\")"
      ]
    },
    {
      "cell_type": "code",
      "source": [
        "bin_colors[1]"
      ],
      "metadata": {
        "colab": {
          "base_uri": "https://localhost:8080/",
          "height": 36
        },
        "id": "j-BQNgoueXN8",
        "outputId": "c8fdbc76-0ffe-457c-d6e0-0bc7d25e8f6b"
      },
      "execution_count": null,
      "outputs": [
        {
          "output_type": "execute_result",
          "data": {
            "text/plain": [
              "'Green'"
            ],
            "application/vnd.google.colaboratory.intrinsic+json": {
              "type": "string"
            }
          },
          "metadata": {},
          "execution_count": 59
        }
      ]
    },
    {
      "cell_type": "code",
      "source": [
        "bin_colors[2:]"
      ],
      "metadata": {
        "id": "jPKYPWpUcado",
        "colab": {
          "base_uri": "https://localhost:8080/"
        },
        "outputId": "039c84b8-cf58-490d-a7d8-5ba80695e512"
      },
      "execution_count": null,
      "outputs": [
        {
          "output_type": "execute_result",
          "data": {
            "text/plain": [
              "['Blue', 'Yellow']"
            ]
          },
          "metadata": {},
          "execution_count": 57
        }
      ]
    },
    {
      "cell_type": "code",
      "source": [
        "bin_UPJ=['Universitas','Pembangunan','Jaya']\n",
        "bin_UPJ"
      ],
      "metadata": {
        "id": "0uVTAvn0cjmI",
        "colab": {
          "base_uri": "https://localhost:8080/"
        },
        "outputId": "0e8f1852-c6c9-4fb5-db7a-1ae33509581f"
      },
      "execution_count": null,
      "outputs": [
        {
          "output_type": "execute_result",
          "data": {
            "text/plain": [
              "['Universitas', 'Pembangunan', 'Jaya']"
            ]
          },
          "metadata": {},
          "execution_count": 60
        }
      ]
    },
    {
      "cell_type": "code",
      "source": [
        "pertama = (100)\n",
        "kedua = (200, 400, 600)\n",
        "ketiga = (300)\n",
        "keempat = (400, 800)\n",
        "nested_tuple = (pertama, kedua, ketiga, keempat)\n",
        "\n",
        "print(nested_tuple)"
      ],
      "metadata": {
        "colab": {
          "base_uri": "https://localhost:8080/"
        },
        "id": "K8in2mA4tppl",
        "outputId": "ce98099e-6647-44f2-b826-74cd1b122163"
      },
      "execution_count": 73,
      "outputs": [
        {
          "output_type": "stream",
          "name": "stdout",
          "text": [
            "(100, (200, 400, 600), 300, (400, 800))\n"
          ]
        }
      ]
    },
    {
      "cell_type": "code",
      "source": [
        "latihan={\n",
        "    \"Nama\":\"Ferdy Agustian\",\n",
        "    \"NIM\":\"2022071018\",\n",
        "    \"Prodi\":\"Informatika\",\n",
        "    \"Universitas\":\"UPJ\"\n",
        "}\n",
        "print(latihan)"
      ],
      "metadata": {
        "colab": {
          "base_uri": "https://localhost:8080/"
        },
        "id": "xkUjmSDgqTMZ",
        "outputId": "94e14bf2-18f0-47d5-fdbd-10de324f228f"
      },
      "execution_count": 66,
      "outputs": [
        {
          "output_type": "stream",
          "name": "stdout",
          "text": [
            "{'Nama': 'Ferdy Agustian', 'NIM': '2022071018', 'Prodi': 'Informatika', 'Universitas': 'UPJ'}\n"
          ]
        }
      ]
    },
    {
      "cell_type": "code",
      "source": [
        "#Inisiasi Set\n",
        "set_01 = {4,5,6,2}\n",
        "print(\"set_01 = \", set_01)\n",
        "\n",
        "#inisiasi mengubah list menjadi set\n",
        "set_02 = set()\n",
        "set_03 = set([2,1,4,3])\n",
        "\n",
        "print(type(set_02))\n",
        "print(\"set_03 = \", set_03)\n",
        "\n",
        "print(\"\\nmenambah\")\n",
        "set_01.add(576)\n",
        "print(set_01)\n",
        "\n",
        "print(\"\\nmenghapus\")\n",
        "set_01.discard(6)\n",
        "print(set_01)\n",
        "\n",
        "print(\"\\nunion\")\n",
        "print(set_01|set_03)\n",
        "\n",
        "print(\"\\nintersection\")\n",
        "print(set_01&set_03)\n",
        "\n",
        "print(\"\\ndifference\")\n",
        "print(set_01-set_03)\n",
        "\n",
        "print(\"\\nsymmetric difference\")\n",
        "print(set_01^set_03)"
      ],
      "metadata": {
        "colab": {
          "base_uri": "https://localhost:8080/"
        },
        "id": "_1GSqXpcqhQc",
        "outputId": "5d6c21a4-1d62-42c4-e5b9-e7b3600ac8a7"
      },
      "execution_count": 69,
      "outputs": [
        {
          "output_type": "stream",
          "name": "stdout",
          "text": [
            "set_01 =  {2, 4, 5, 6}\n",
            "<class 'set'>\n",
            "set_03 =  {1, 2, 3, 4}\n",
            "\n",
            "menambah\n",
            "{576, 2, 4, 5, 6}\n",
            "\n",
            "menghapus\n",
            "{576, 2, 4, 5}\n",
            "\n",
            "union\n",
            "{576, 1, 2, 3, 4, 5}\n",
            "\n",
            "intersection\n",
            "{2, 4}\n",
            "\n",
            "difference\n",
            "{576, 5}\n",
            "\n",
            "symmetric difference\n",
            "{576, 1, 3, 5}\n"
          ]
        }
      ]
    },
    {
      "cell_type": "code",
      "source": [
        "red = {\"dandelions\", \"leaves\", \"fire hydrant\"}\n",
        "green = {\"rose\", \"blood\", \"leaves\", \"fire hydrant\"}\n",
        "\n",
        "print(red|green)\n",
        "print(red&green)"
      ],
      "metadata": {
        "colab": {
          "base_uri": "https://localhost:8080/"
        },
        "id": "TV_XNEckrJkJ",
        "outputId": "9c2b7d84-2d95-433e-ce2b-ee5896d94627"
      },
      "execution_count": 70,
      "outputs": [
        {
          "output_type": "stream",
          "name": "stdout",
          "text": [
            "{'fire hydrant', 'rose', 'blood', 'leaves', 'dandelions'}\n",
            "{'leaves', 'fire hydrant'}\n"
          ]
        }
      ]
    },
    {
      "cell_type": "code",
      "source": [
        "import pandas as pd\n",
        "\n",
        "df = pd.DataFrame([\n",
        "    [1, \"Informatika\", 50, 30, 20],\n",
        "    [2, \"Sistem Informasi\", 55, 30, 25],\n",
        "    [3, \"Teknik Sipil\", 40, 30, 10]\n",
        "])\n",
        "\n",
        "df.columns = [\"No\", \"Prodi\", \"Mahasiswa\", \"laki-laki\", \"Perempuan\"]\n",
        "df.style.hide(axis='index')"
      ],
      "metadata": {
        "colab": {
          "base_uri": "https://localhost:8080/",
          "height": 143
        },
        "id": "sbO-74xSs8yl",
        "outputId": "853146cc-2152-4ae2-d3f4-abf10604d7f1"
      },
      "execution_count": 71,
      "outputs": [
        {
          "output_type": "execute_result",
          "data": {
            "text/plain": [
              "<pandas.io.formats.style.Styler at 0x7bab3014bf70>"
            ],
            "text/html": [
              "<style type=\"text/css\">\n",
              "</style>\n",
              "<table id=\"T_820a1\" class=\"dataframe\">\n",
              "  <thead>\n",
              "    <tr>\n",
              "      <th id=\"T_820a1_level0_col0\" class=\"col_heading level0 col0\" >No</th>\n",
              "      <th id=\"T_820a1_level0_col1\" class=\"col_heading level0 col1\" >Prodi</th>\n",
              "      <th id=\"T_820a1_level0_col2\" class=\"col_heading level0 col2\" >Mahasiswa</th>\n",
              "      <th id=\"T_820a1_level0_col3\" class=\"col_heading level0 col3\" >laki-laki</th>\n",
              "      <th id=\"T_820a1_level0_col4\" class=\"col_heading level0 col4\" >Perempuan</th>\n",
              "    </tr>\n",
              "  </thead>\n",
              "  <tbody>\n",
              "    <tr>\n",
              "      <td id=\"T_820a1_row0_col0\" class=\"data row0 col0\" >1</td>\n",
              "      <td id=\"T_820a1_row0_col1\" class=\"data row0 col1\" >Informatika</td>\n",
              "      <td id=\"T_820a1_row0_col2\" class=\"data row0 col2\" >50</td>\n",
              "      <td id=\"T_820a1_row0_col3\" class=\"data row0 col3\" >30</td>\n",
              "      <td id=\"T_820a1_row0_col4\" class=\"data row0 col4\" >20</td>\n",
              "    </tr>\n",
              "    <tr>\n",
              "      <td id=\"T_820a1_row1_col0\" class=\"data row1 col0\" >2</td>\n",
              "      <td id=\"T_820a1_row1_col1\" class=\"data row1 col1\" >Sistem Informasi</td>\n",
              "      <td id=\"T_820a1_row1_col2\" class=\"data row1 col2\" >55</td>\n",
              "      <td id=\"T_820a1_row1_col3\" class=\"data row1 col3\" >30</td>\n",
              "      <td id=\"T_820a1_row1_col4\" class=\"data row1 col4\" >25</td>\n",
              "    </tr>\n",
              "    <tr>\n",
              "      <td id=\"T_820a1_row2_col0\" class=\"data row2 col0\" >3</td>\n",
              "      <td id=\"T_820a1_row2_col1\" class=\"data row2 col1\" >Teknik Sipil</td>\n",
              "      <td id=\"T_820a1_row2_col2\" class=\"data row2 col2\" >40</td>\n",
              "      <td id=\"T_820a1_row2_col3\" class=\"data row2 col3\" >30</td>\n",
              "      <td id=\"T_820a1_row2_col4\" class=\"data row2 col4\" >10</td>\n",
              "    </tr>\n",
              "  </tbody>\n",
              "</table>\n"
            ]
          },
          "metadata": {},
          "execution_count": 71
        }
      ]
    },
    {
      "cell_type": "code",
      "source": [
        "import numpy as np\n",
        "\n",
        "matrix = np.array([\n",
        "    [100, 200, 300],\n",
        "    [700, 600, 500],\n",
        "    [900, 1000, 800]\n",
        "    ])\n",
        "\n",
        "print(matrix)\n",
        "\n",
        "print(\"\\nTranspose:\")\n",
        "print(matrix.T)"
      ],
      "metadata": {
        "colab": {
          "base_uri": "https://localhost:8080/"
        },
        "id": "0KXE4AKitFKB",
        "outputId": "014bc533-9f92-4f90-cd0d-c647c48fbc27"
      },
      "execution_count": 72,
      "outputs": [
        {
          "output_type": "stream",
          "name": "stdout",
          "text": [
            "[[ 100  200  300]\n",
            " [ 700  600  500]\n",
            " [ 900 1000  800]]\n",
            "\n",
            "Transpose:\n",
            "[[ 100  700  900]\n",
            " [ 200  600 1000]\n",
            " [ 300  500  800]]\n"
          ]
        }
      ]
    }
  ],
  "metadata": {
    "colab": {
      "provenance": [],
      "authorship_tag": "ABX9TyMdzHQRO2f3T6pV6oVVKXRw",
      "include_colab_link": true
    },
    "kernelspec": {
      "display_name": "Python 3",
      "name": "python3"
    },
    "language_info": {
      "name": "python"
    }
  },
  "nbformat": 4,
  "nbformat_minor": 0
}